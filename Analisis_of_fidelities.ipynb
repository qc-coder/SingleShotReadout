{
 "cells": [
  {
   "cell_type": "markdown",
   "metadata": {},
   "source": [
    "# Fidelity versus t_read and n_phot\n"
   ]
  },
  {
   "cell_type": "markdown",
   "metadata": {},
   "source": [
    "This is a program for work with data type: Fid_vs_tread\n",
    "For each fidelity measurement creates an object contains the data, plots and extracted values of fidelity etc\n",
    "For each measurement fid_vs_tread also creates an object, contains sequence of objects of each fidelity measurement plus sequence of extracted values and plots\n"
   ]
  },
  {
   "cell_type": "markdown",
   "metadata": {},
   "source": [
    "### imports"
   ]
  },
  {
   "cell_type": "code",
   "execution_count": null,
   "metadata": {},
   "outputs": [],
   "source": [
    "import numpy as np\n",
    "from matplotlib import pyplot as plt\n",
    "\n",
    "#my library with classes\n",
    "from lib_SSResult import SSResult"
   ]
  },
  {
   "cell_type": "markdown",
   "metadata": {},
   "source": [
    "### custom fonts and colors"
   ]
  },
  {
   "cell_type": "code",
   "execution_count": null,
   "metadata": {},
   "outputs": [],
   "source": [
    "def set_font(filename='Forza-Book.ttf'):\n",
    "    '''\n",
    "    Takes the name of file.ttf\n",
    "    File must be in folder of\n",
    "    Python27\\Lib\\site-packages\\matplotlib\\mpl-data\\fonts\\ttf\n",
    "    return prop\n",
    "    wich could be use as in an example:\n",
    "    ax.set_title('This is a special font: {}'.format(fname), fontproperties=prop)\n",
    "    fontproperties = set_font('Forza-Book.ttf')\n",
    "    '''\n",
    "    ## special font from ttf\n",
    "    ###+===============================######\n",
    "    import os\n",
    "    from matplotlib import font_manager as fm, rcParams\n",
    "\n",
    "    str_adress_name = \"fonts/ttf/\" + filename\n",
    "\n",
    "    fpath = os.path.join(rcParams[\"datapath\"], str_adress_name)\n",
    "    prop = fm.FontProperties(fname=fpath)\n",
    "    # fname = os.path.split(fpath)[1]\n",
    "\n",
    "    return prop\n",
    "\n",
    "my_colors_dict = {  'redberry'      :'#970000',\n",
    "                    'tamarillo'     :'#8b1212',\n",
    "                    'venetianred'   :'#770023',\n",
    "                    'monarch'       :'#850731',\n",
    "                    'toledo'        :'#40001b',\n",
    "                    'shipgrey'      :'#423B4B',\n",
    "                    'charde'        :'#20202c',\n",
    "                    'woodsmoke'     :'#171719',\n",
    "                    'mediumpurple'  :'#795FD7',\n",
    "                    'curciousblue'  :'#2f99e2',\n",
    "                    'electric'      :'#795fd7',\n",
    "                    'deus_ex_gold'  :'#eda723',\n",
    "                    'meduza'        :'#b5895b',\n",
    "                    'meduza_gold'   :'#B5965B',\n",
    "                    'blob_g'        :'#546ea9',\n",
    "                    'blob_e'        :'#fd6e6e',\n",
    "                    'blob_post'     :'#1b346e',\n",
    "                    'g_state_mark'  :'#849cd4',\n",
    "                    'e_state_mark'  :'#fe9393'\n",
    "\n",
    "}\n"
   ]
  },
  {
   "cell_type": "markdown",
   "metadata": {},
   "source": [
    "# Check a new class for SSResult"
   ]
  },
  {
   "cell_type": "code",
   "execution_count": null,
   "metadata": {},
   "outputs": [],
   "source": [
    "filename = 'C:\\\\Users\\\\V\\\\Jupyter scripts\\\\Fidelity data processing\\\\192622_SingleShot.dat'\n",
    "paramfile = 'C:\\\\Users\\\\V\\\\Jupyter scripts\\\\Fidelity data processing\\\\192644_parameters_Fidelity190722_192644.dat'\n",
    "m1 = SSResult(filename, paramfile=paramfile)\n",
    "print 'Time:', m1.timestamp\n",
    "pic = m1.plot_scatter_two_blob(dark=True, crop=False, renorm=False)"
   ]
  },
  {
   "cell_type": "code",
   "execution_count": null,
   "metadata": {},
   "outputs": [],
   "source": [
    "filefont = 'ProximaNova-Regular.ttf'\n",
    "pic = m1.plot_scatter_two_blob(dark=True, crop=False, renorm=False, font=set_font(filename=filefont))"
   ]
  },
  {
   "cell_type": "code",
   "execution_count": null,
   "metadata": {},
   "outputs": [],
   "source": [
    "pic = m1.plot_hist_1D_withpost(log=True, n_bins=120)"
   ]
  },
  {
   "cell_type": "code",
   "execution_count": null,
   "metadata": {},
   "outputs": [],
   "source": [
    "m1.fidelity_dict\n"
   ]
  },
  {
   "cell_type": "code",
   "execution_count": null,
   "metadata": {},
   "outputs": [],
   "source": [
    "m1.param_dict"
   ]
  },
  {
   "cell_type": "markdown",
   "metadata": {},
   "source": [
    "# Find all the files"
   ]
  },
  {
   "cell_type": "code",
   "execution_count": null,
   "metadata": {},
   "outputs": [],
   "source": [
    "import os"
   ]
  },
  {
   "cell_type": "code",
   "execution_count": null,
   "metadata": {},
   "outputs": [],
   "source": [
    "## смена текущей директории.\n",
    "path = 'C:\\Users\\V\\Jupyter scripts\\Fidelity data processing\\Fid_vs_tread_VS__Rudat\\Rdt=16_jpa_192447_______Fidelity_vs_time\\All_here_rdt=16'\n",
    "os.chdir(path)"
   ]
  },
  {
   "cell_type": "code",
   "execution_count": null,
   "metadata": {},
   "outputs": [],
   "source": [
    "def get_adress_lists(path):\n",
    "    '''\n",
    "    Takes path to folder. Returns [ list_of_datafiles, list_of_parameter_files ]\n",
    "    '''\n",
    "    def recognize_dir(dirname):\n",
    "        '''\n",
    "        function to check is a given name of directory correspond to parameters or data\n",
    "        '''\n",
    "        if '_SingleShot' in dirname:\n",
    "            return 'data'\n",
    "        elif 'parameters' in dirname:\n",
    "            return 'param'\n",
    "        else:\n",
    "            return 'no'\n",
    "        \n",
    "    listdir = os.listdir(path)\n",
    "    \n",
    "    list_dat_f = []\n",
    "    list_param_f = []\n",
    "    for n in range(len(listdir)):\n",
    "    #     print 'dirname:', listdir[n]\n",
    "    #     print 'type:', recognize_dir(listdir[n])\n",
    "    #     print ''\n",
    "\n",
    "        if recognize_dir(listdir[n]) is not 'no':\n",
    "\n",
    "            adress = path+'\\\\'+listdir[n]\n",
    "            listin = os.listdir(adress)\n",
    "            for f in listin:\n",
    "                if f.endswith('.dat'):\n",
    "                    adress = adress +'\\\\'+ f\n",
    "\n",
    "            if recognize_dir(listdir[n]) == 'param':\n",
    "                list_param_f.append(adress)\n",
    "            if recognize_dir(listdir[n]) == 'data':\n",
    "                list_dat_f.append(adress)\n",
    "\n",
    "    return [list_dat_f, list_param_f]\n",
    "#########################"
   ]
  },
  {
   "cell_type": "markdown",
   "metadata": {},
   "source": [
    "# Клепаем объекты!!!"
   ]
  },
  {
   "cell_type": "markdown",
   "metadata": {},
   "source": [
    "### Create list of file adresses"
   ]
  },
  {
   "cell_type": "code",
   "execution_count": null,
   "metadata": {},
   "outputs": [],
   "source": [
    "#rdt = 16\n",
    "path16 = 'C:\\Users\\V\\Jupyter scripts\\Fidelity data processing\\Fid_vs_tread_VS__Rudat\\Rdt=16_jpa_192447_______Fidelity_vs_time\\All_here_rdt=16'\n",
    "#rdt = 19\n",
    "path19 = 'C:\\Users\\V\\Jupyter scripts\\Fidelity data processing\\Fid_vs_tread_VS__Rudat\\Rdt=19_jpa_154038_______Fidelity_vs_time\\All_here_rdt=19'\n",
    "#rdt = 22\n",
    "path22 = 'C:\\Users\\V\\Jupyter scripts\\Fidelity data processing\\Fid_vs_tread_VS__Rudat\\Rdt=22_jpa_144004_______Fidelity_vs_time\\All_here_rdt=22'\n",
    "#rdt = 22 (no jpa)\n",
    "path22nj = 'C:\\Users\\V\\Jupyter scripts\\Fidelity data processing\\Fid_vs_tread_VS__Rudat\\Rdt=22_nojpa_012355_______Fidelity_vs_time\\All_here_rdt=22'\n",
    "\n",
    "\n",
    "[list_dat_f16, list_param_f16] = get_adress_lists(path16)\n",
    "[list_dat_f19, list_param_f19] = get_adress_lists(path19)\n",
    "[list_dat_f22, list_param_f22] = get_adress_lists(path22)\n",
    "[list_dat_f22nj, list_param_f22nj] = get_adress_lists(path22nj)\n",
    "\n",
    "    "
   ]
  },
  {
   "cell_type": "markdown",
   "metadata": {},
   "source": [
    "### For load all the data (memory consuming)"
   ]
  },
  {
   "cell_type": "code",
   "execution_count": null,
   "metadata": {},
   "outputs": [],
   "source": [
    "def load_data(list_dat_f,list_param_f):\n",
    "    list_ssres = []\n",
    "    for i in range(len(list_dat_f)):\n",
    "        m = SSResult(list_dat_f[i], paramfile = list_param_f[i])\n",
    "        list_ssres.append(m)\n",
    "    print 'Done!'\n",
    "    return list_ssres"
   ]
  },
  {
   "cell_type": "markdown",
   "metadata": {},
   "source": [
    "### For loading only the dictionaries (to save the memory)"
   ]
  },
  {
   "cell_type": "code",
   "execution_count": null,
   "metadata": {},
   "outputs": [],
   "source": [
    "def load_fid_par_dicts(list_dat_f,list_param_f):\n",
    "    list_dicts = []\n",
    "    for i in range(len(list_dat_f)):\n",
    "        m = SSResult(list_dat_f[i], paramfile = list_param_f[i])\n",
    "        line = [ m.param_dict, m.fidelity_dict, m.timestamp, m.datafile, m.paramfile]\n",
    "        list_dicts.append(line)\n",
    "    \n",
    "    return list_dicts"
   ]
  },
  {
   "cell_type": "code",
   "execution_count": null,
   "metadata": {},
   "outputs": [],
   "source": [
    "list_dicts16 = load_fid_par_dicts(list_dat_f16, list_param_f16)\n",
    "list_dicts19 = load_fid_par_dicts(list_dat_f19, list_param_f19)\n",
    "list_dicts22 = load_fid_par_dicts(list_dat_f22, list_param_f22)\n",
    "list_dicts22nj = load_fid_par_dicts(list_dat_f22nj, list_param_f22nj)"
   ]
  },
  {
   "cell_type": "markdown",
   "metadata": {},
   "source": [
    "# Fidelity versus time of readout with three different pulse power"
   ]
  },
  {
   "cell_type": "markdown",
   "metadata": {},
   "source": [
    "### Plot fid_vs_tread for given pulse power"
   ]
  },
  {
   "cell_type": "code",
   "execution_count": null,
   "metadata": {},
   "outputs": [],
   "source": [
    "def plot_fpost_vs_tread(list_dicts):\n",
    "\n",
    "    list_tread = []\n",
    "\n",
    "    list_f_post = []\n",
    "    list_f_post_e = []\n",
    "    list_f_post_g = []\n",
    "    list_f_gauss = []\n",
    "\n",
    "    for linedic in list_dicts:\n",
    "        list_tread.append( 1e9 * linedic[0]['t_read']  )\n",
    "\n",
    "        list_f_post.append( 100*  linedic[1]['F_post']  )\n",
    "        list_f_post_e.append( 100*  linedic[1]['F_post_e'] )\n",
    "        list_f_post_g.append( 100*  linedic[1]['F_post_g'] )\n",
    "        list_f_gauss.append( 100*  linedic[1]['F_gaus'] )\n",
    "\n",
    "\n",
    "    fig = plt.figure(figsize=[8,6])\n",
    "    \n",
    "    ax = fig.add_subplot(1, 1, 1)\n",
    "    \n",
    "    ax.plot( list_tread, list_f_post,   '.', label='f_post',   color='k')\n",
    "    ax.plot( list_tread, list_f_post_e, '.', label='f_post_e', color='g')\n",
    "    ax.plot( list_tread, list_f_post_g, '.', label='f_post_g', color='b')\n",
    "    ax.plot( list_tread, list_f_gauss,  '.', label='f_gauss',  color='r')\n",
    "    \n",
    "    ax.set_ylabel('fidelity [%]')\n",
    "    ax.set_xlabel('t read [ns]')\n",
    "    ax.set_ylim([40,110])\n",
    "    ax.legend()\n",
    "    ax.set_title('fidelity with postselection')\n",
    "    \n",
    "    print 'maximum fidelity postsel is:', round(  np.max(list_f_post), 2), '%'\n",
    "    optimal_tread =  np.argmax(list_f_post)\n",
    "    print 'optimal t read is', round( list_tread[optimal_tread], 3), ' ns'\n",
    "    \n",
    "    print '\\n'\n",
    "\n"
   ]
  },
  {
   "cell_type": "markdown",
   "metadata": {},
   "source": [
    "### Plot in one window fidelities versus readout time for different pulse power\n"
   ]
  },
  {
   "cell_type": "code",
   "execution_count": null,
   "metadata": {},
   "outputs": [],
   "source": [
    "def plot_f_vs_tread(list_dicts):\n",
    "\n",
    "    list_tread = []\n",
    "\n",
    "    list_f = []\n",
    "    list_f_e = []\n",
    "    list_f_g = []\n",
    "    list_f_gauss = []\n",
    "\n",
    "    for linedic in list_dicts:\n",
    "        list_tread.append( 1e9 * linedic[0]['t_read']  )\n",
    "\n",
    "        list_f.append( 100*  linedic[1]['F']  )\n",
    "        list_f_e.append( 100*  linedic[1]['F_e'] )\n",
    "        list_f_g.append( 100*  linedic[1]['F_g'] )\n",
    "        list_f_gauss.append( 100*  linedic[1]['F_gaus'] )\n",
    "\n",
    "\n",
    "    fig = plt.figure(figsize=[8,6])\n",
    "    \n",
    "    ax = fig.add_subplot(1, 1, 1)\n",
    "    \n",
    "    ax.plot( list_tread, list_f,   '.', label='f',   color='k')\n",
    "    ax.plot( list_tread, list_f_e, '.', label='f_e', color='g')\n",
    "    ax.plot( list_tread, list_f_g, '.', label='f_g', color='b')\n",
    "    ax.plot( list_tread, list_f_gauss,  '.', label='f_gauss',  color='r')\n",
    "    \n",
    "    ax.set_ylabel('fidelity [%]')\n",
    "    ax.set_xlabel('t read [ns]')\n",
    "#     ax.set_yscale('log')\n",
    "    ax.set_ylim([40,110])\n",
    "#     ax.set_xlim([0,100])\n",
    "    ax.legend()\n",
    "    ax.set_title('fidelity')\n",
    "    \n",
    "    print 'maximum fidelity is:', round( np.max(list_f), 2), '%'\n",
    "    optimal_tread =  np.argmax(list_f)\n",
    "    print 'optimal t read is', round( list_tread[optimal_tread], 3), ' ns'\n",
    "\n",
    "    \n"
   ]
  },
  {
   "cell_type": "markdown",
   "metadata": {},
   "source": [
    "### Show blolbs for given t_read"
   ]
  },
  {
   "cell_type": "code",
   "execution_count": null,
   "metadata": {},
   "outputs": [],
   "source": [
    "def blob_with_tread(tread, list_dicts):\n",
    "    '''\n",
    "    takes wanted value in ns\n",
    "    takes list of dictionaries (find filename there)\n",
    "    '''\n",
    "    \n",
    "    list_difference = []\n",
    "    for linedic in list_dicts:\n",
    "        list_difference.append( abs(tread - 1e9 * linedic[0]['t_read']) )\n",
    "        \n",
    "    wanted_arg = np.argmin(list_difference)\n",
    "    wanted_dic_line = list_dicts[wanted_arg]\n",
    "    \n",
    "    SRR_obj = SSResult(wanted_dic_line[3], paramfile = wanted_dic_line[4])\n",
    "    pic1 = SRR_obj.plot_scatter_two_blob(dark=True, crop=False, renorm=False)\n",
    "    pic2 = SRR_obj.plot_hist_1D_withpost()\n",
    "#     return [pic1,pic2]\n",
    "    return wanted_dic_line\n",
    "    \n"
   ]
  },
  {
   "cell_type": "markdown",
   "metadata": {},
   "source": [
    "## Seria of fidelity and fidelity_postselected"
   ]
  },
  {
   "cell_type": "markdown",
   "metadata": {},
   "source": [
    "#### Rudat = 22 dB, and JPA is OFF!"
   ]
  },
  {
   "cell_type": "code",
   "execution_count": null,
   "metadata": {},
   "outputs": [],
   "source": [
    "plot_f_vs_tread(list_dicts22nj)\n",
    "plot_fpost_vs_tread(list_dicts22nj)\n",
    "dicdic = blob_with_tread(50, list_dicts22nj)"
   ]
  },
  {
   "cell_type": "code",
   "execution_count": null,
   "metadata": {},
   "outputs": [],
   "source": [
    "list_dicts22nj[100]"
   ]
  },
  {
   "cell_type": "markdown",
   "metadata": {},
   "source": [
    "#### Rudat = 22, with JPA ON"
   ]
  },
  {
   "cell_type": "code",
   "execution_count": null,
   "metadata": {},
   "outputs": [],
   "source": [
    "plot_f_vs_tread(list_dicts22)\n",
    "plot_fpost_vs_tread(list_dicts22)\n",
    "dicdic = blob_with_tread(214, list_dicts22)"
   ]
  },
  {
   "cell_type": "markdown",
   "metadata": {},
   "source": [
    "#### Rudat = 19 dB, jpa ON"
   ]
  },
  {
   "cell_type": "code",
   "execution_count": null,
   "metadata": {},
   "outputs": [],
   "source": [
    "plot_f_vs_tread(list_dicts19)\n",
    "plot_fpost_vs_tread(list_dicts19)\n",
    "dicdic1 = blob_with_tread(164, list_dicts19)\n",
    "dicdic1"
   ]
  },
  {
   "cell_type": "code",
   "execution_count": null,
   "metadata": {},
   "outputs": [],
   "source": [
    "dicdic1"
   ]
  },
  {
   "cell_type": "markdown",
   "metadata": {},
   "source": [
    "#### Rudat = 16 dB (more power), JPA ON"
   ]
  },
  {
   "cell_type": "code",
   "execution_count": null,
   "metadata": {},
   "outputs": [],
   "source": [
    "plot_f_vs_tread(list_dicts16)\n",
    "plot_fpost_vs_tread(list_dicts16)\n",
    "dicdic1 = blob_with_tread(86, list_dicts16)"
   ]
  },
  {
   "cell_type": "code",
   "execution_count": null,
   "metadata": {},
   "outputs": [],
   "source": [
    "dicdic1 = blob_with_tread(200, list_dicts16)"
   ]
  },
  {
   "cell_type": "markdown",
   "metadata": {},
   "source": [
    "## Plot fid_vs_tread for different pulse power in one window"
   ]
  },
  {
   "cell_type": "code",
   "execution_count": null,
   "metadata": {},
   "outputs": [],
   "source": [
    "def plot_f_vs_tread_vs_rudat(list_of_list_dicts, wanted_parameter='F_post'):\n",
    "    \n",
    "    \n",
    "    fig = plt.figure(figsize=[15,7])\n",
    "    ax = fig.add_subplot(1, 1, 1)\n",
    "    \n",
    "    for list_dicts in list_of_list_dicts:\n",
    "\n",
    "        list_tread = []\n",
    "        list_f_post = []\n",
    "\n",
    "        for linedic in list_dicts:\n",
    "            list_tread.append( 1e9 * linedic[0]['t_read']  )\n",
    "\n",
    "            list_f_post.append( 100* linedic[1][wanted_parameter]  )\n",
    "\n",
    "        ax.plot( list_tread, list_f_post,   '.', label='rudat= '+str(linedic[0]['rudat']))\n",
    "   \n",
    "    ax.set_title(wanted_parameter)\n",
    "    ax.set_ylabel('fidelity [%]')\n",
    "    ax.set_xlabel('t read [ns]')\n",
    "#     ax.set_yscale('log')\n",
    "    ax.set_ylim([50,100])\n",
    "#     ax.set_xlim([0,100])\n",
    "    ax.legend()\n",
    "\n"
   ]
  },
  {
   "cell_type": "markdown",
   "metadata": {},
   "source": [
    "### T1:\n",
    "### 16dB  ---     3300 - 3500 ns\n",
    "\n",
    "### 19dB  ---     3300 - 3400 ns\n",
    "\n",
    "### 22dB  ---     3500 - 3700 ns\n",
    "\n",
    "### 22dB (nojpa) 3300 - 3400 ns"
   ]
  },
  {
   "cell_type": "code",
   "execution_count": null,
   "metadata": {},
   "outputs": [],
   "source": [
    "list_of_lists = [list_dicts22nj, list_dicts22, list_dicts19, list_dicts16]\n",
    "plot_f_vs_tread_vs_rudat(list_of_lists, wanted_parameter='F')\n",
    "plot_f_vs_tread_vs_rudat(list_of_lists, wanted_parameter='F_post')\n"
   ]
  },
  {
   "cell_type": "code",
   "execution_count": null,
   "metadata": {},
   "outputs": [],
   "source": []
  },
  {
   "cell_type": "code",
   "execution_count": null,
   "metadata": {},
   "outputs": [],
   "source": [
    "dicdic1 = blob_with_tread(500, list_dicts16)"
   ]
  },
  {
   "cell_type": "code",
   "execution_count": null,
   "metadata": {},
   "outputs": [],
   "source": [
    "dicdic1 = blob_with_tread(120, list_dicts19)"
   ]
  },
  {
   "cell_type": "code",
   "execution_count": null,
   "metadata": {},
   "outputs": [],
   "source": [
    "dicdic1 = blob_with_tread(120, list_dicts22)"
   ]
  },
  {
   "cell_type": "code",
   "execution_count": null,
   "metadata": {},
   "outputs": [],
   "source": []
  },
  {
   "cell_type": "code",
   "execution_count": null,
   "metadata": {},
   "outputs": [],
   "source": []
  },
  {
   "cell_type": "code",
   "execution_count": null,
   "metadata": {},
   "outputs": [],
   "source": []
  },
  {
   "cell_type": "code",
   "execution_count": null,
   "metadata": {},
   "outputs": [],
   "source": []
  },
  {
   "cell_type": "code",
   "execution_count": null,
   "metadata": {},
   "outputs": [],
   "source": []
  },
  {
   "cell_type": "code",
   "execution_count": null,
   "metadata": {},
   "outputs": [],
   "source": []
  },
  {
   "cell_type": "code",
   "execution_count": null,
   "metadata": {},
   "outputs": [],
   "source": []
  },
  {
   "cell_type": "code",
   "execution_count": null,
   "metadata": {},
   "outputs": [],
   "source": []
  },
  {
   "cell_type": "code",
   "execution_count": null,
   "metadata": {},
   "outputs": [],
   "source": []
  },
  {
   "cell_type": "code",
   "execution_count": null,
   "metadata": {},
   "outputs": [],
   "source": []
  },
  {
   "cell_type": "code",
   "execution_count": null,
   "metadata": {},
   "outputs": [],
   "source": []
  }
 ],
 "metadata": {
  "kernelspec": {
   "display_name": "Python 2",
   "language": "python",
   "name": "python2"
  },
  "language_info": {
   "codemirror_mode": {
    "name": "ipython",
    "version": 2
   },
   "file_extension": ".py",
   "mimetype": "text/x-python",
   "name": "python",
   "nbconvert_exporter": "python",
   "pygments_lexer": "ipython2",
   "version": "2.7.10"
  }
 },
 "nbformat": 4,
 "nbformat_minor": 2
}
