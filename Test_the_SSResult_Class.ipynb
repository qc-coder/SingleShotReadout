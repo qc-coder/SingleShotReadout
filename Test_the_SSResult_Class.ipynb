{
 "cells": [
  {
   "cell_type": "markdown",
   "metadata": {},
   "source": [
    "# Start"
   ]
  },
  {
   "cell_type": "markdown",
   "metadata": {},
   "source": [
    "# Fidelity calculator check"
   ]
  },
  {
   "cell_type": "code",
   "execution_count": null,
   "metadata": {},
   "outputs": [],
   "source": [
    "def comparator(a,b):\n",
    "    if len(a) != len(b):\n",
    "        print 'size is different'\n",
    "        return False\n",
    "    for i in range(len(a)):\n",
    "        if a[i] != b[i]:\n",
    "            return False\n",
    "    return True\n",
    "\n",
    "\n",
    "def crop_fluctuations(re_g, im_g, re_e,im_e, void_re, void_im, coeff_shift = 2.0, crop=True):\n",
    "    '''\n",
    "    takes re_g, im_g, re_e, im_e data\n",
    "    finds the main area\n",
    "    returns values of limits [leftlim, rightlim, toplim, bottomlim]\n",
    "    coeff_shift - how many std-values shift from mean-value\n",
    "    '''\n",
    "    if crop:\n",
    "        ## for X axis\n",
    "        re_g_m = np.mean(re_g)     #mean value of g\n",
    "        re_g_d = np.std(re_g)       #dispersion value of g\n",
    "        re_e_m = np.mean(re_e)\n",
    "        re_e_d = np.std(re_e)\n",
    "        ## for Y axis\n",
    "        im_g_m = np.mean(im_g)     #mean value of g\n",
    "        im_g_d = np.std(im_g)       #dispersion value of g\n",
    "        im_e_m = np.mean(im_e)\n",
    "        im_e_d = np.std(im_e)\n",
    "        ### possible X(re) limits\n",
    "        re1 = re_g_m + re_g_d * coeff_shift\n",
    "        re2 = re_g_m - re_g_d * coeff_shift\n",
    "        re3 = re_e_m + re_e_d * coeff_shift\n",
    "        re4 = re_e_m - re_e_d * coeff_shift\n",
    "        ### possible Y(im) limits\n",
    "        im1 = im_g_m + im_g_d * coeff_shift\n",
    "        im2 = im_g_m - im_g_d * coeff_shift\n",
    "        im3 = im_e_m + im_e_d * coeff_shift\n",
    "        im4 = im_e_m - im_e_d * coeff_shift\n",
    "\n",
    "        leftlim = np.min([ re1,re2,re3,re4, 0, void_re])\n",
    "        rightlim = np.max([ re1,re2,re3,re4, 0, void_re ])\n",
    "        toplim = np.max([ im1,im2,im3,im4, 0, void_im ])\n",
    "        bottomlim = np.min([ im1,im2,im3,im4, 0, void_im ])\n",
    "    else:\n",
    "        leftlim = np.min([ re_e, re_g, 0 ])\n",
    "        rightlim = np.max([ re_e, re_g, 0 ])\n",
    "        toplim = np.max([ im_e, im_g, 0 ])\n",
    "        bottomlim = np.min([ im_e, im_g, 0 ])\n",
    "\n",
    "    return [leftlim, rightlim, toplim, bottomlim]"
   ]
  },
  {
   "cell_type": "code",
   "execution_count": null,
   "metadata": {},
   "outputs": [],
   "source": []
  },
  {
   "cell_type": "markdown",
   "metadata": {},
   "source": [
    "# Create M2"
   ]
  },
  {
   "cell_type": "code",
   "execution_count": null,
   "metadata": {},
   "outputs": [],
   "source": [
    "import numpy as np\n",
    "from matplotlib import pyplot as plt\n",
    "from lib_SSResult import SSResult## This data we will use\n",
    "# from lib_SSResult import Histogram\n",
    "\n",
    "\n",
    "filename2 = 'C:\\\\Users\\V\\\\Jupyter scripts\\\\Fidelity data processing\\\\193544_SingleShot.dat'\n",
    "paramfile2 = 'C:\\\\Users\\V\\\\Jupyter scripts\\\\Fidelity data processing\\\\193544_parameters_Fidelity190722_193544.dat'\n",
    "m2 = SSResult(filename2, paramfile=paramfile2)\n",
    "# pic = m2.plot_scatter_two_blob(dark=True)"
   ]
  },
  {
   "cell_type": "markdown",
   "metadata": {},
   "source": [
    "## Normalize data"
   ]
  },
  {
   "cell_type": "code",
   "execution_count": null,
   "metadata": {},
   "outputs": [],
   "source": [
    "m2.make_norm_data_from_raw()\n",
    "# pic1 = m2.plot_scatter_two_blob(dark=True, renorm=True)\n",
    "# pic = m2.plot_hist_1D()"
   ]
  },
  {
   "cell_type": "markdown",
   "metadata": {},
   "source": [
    "## Ok. Data is normalised. Use only Re part (so called x)"
   ]
  },
  {
   "cell_type": "markdown",
   "metadata": {},
   "source": [
    "## Now work with threshold"
   ]
  },
  {
   "cell_type": "code",
   "execution_count": null,
   "metadata": {},
   "outputs": [],
   "source": [
    "m2.set_best_threshold()\n",
    "print '\\n THREHSOLD:', m2.threshold"
   ]
  },
  {
   "cell_type": "code",
   "execution_count": null,
   "metadata": {},
   "outputs": [],
   "source": [
    "SHIFT_DATA = False\n",
    "# SHIFT_DATA = True"
   ]
  },
  {
   "cell_type": "code",
   "execution_count": null,
   "metadata": {},
   "outputs": [],
   "source": [
    "if SHIFT_DATA:\n",
    "    print m2.threshold\n",
    "    m2.reset_x_threshold_tobe_zero()\n",
    "    print m2.threshold"
   ]
  },
  {
   "cell_type": "code",
   "execution_count": null,
   "metadata": {},
   "outputs": [],
   "source": [
    "# pic = m2.plot_scatter_two_blob(dark=True, renorm=True)\n",
    "# pic = m2.plot_hist_1D()"
   ]
  },
  {
   "cell_type": "markdown",
   "metadata": {},
   "source": [
    "# Start postselection"
   ]
  },
  {
   "cell_type": "code",
   "execution_count": null,
   "metadata": {},
   "outputs": [],
   "source": [
    "[list_g_wrong, list_e_wrong] = m2.make_postselected_data_from_norm()\n",
    "pic = m2.plot_hist_1D(plot_raw_not_sel=True, plot_pre_data=True)\n",
    "# pic = m2.plot_hist_1D(plot_raw_not_sel=False, plot_pre_data=False, title_str='Selected')\n",
    "\n"
   ]
  },
  {
   "cell_type": "markdown",
   "metadata": {},
   "source": [
    "# Work on gaussian"
   ]
  },
  {
   "cell_type": "code",
   "execution_count": null,
   "metadata": {},
   "outputs": [],
   "source": [
    "# def fit_gauss(hist_x_xy, crop_thr=None, crop_sign = +1):\n",
    "#     '''\n",
    "#     Takes histogram-tuple [x, vals]\n",
    "#     fits \n",
    "#     returns histogram-tuple [x, vals_fit] and list of gauss-parameters\n",
    "#     crop_thr: if it is None - than we fit all the data. If it is threshold_value than we do crop\n",
    "#     if crop_sign is positive - than we take points more than threshold \n",
    "#     if crop_sign is negative - than we take points less than threshold \n",
    "    \n",
    "#     '''\n",
    "# #     y = hist_x_xy[0]\n",
    "# #     x = hist_x_xy[1]\n",
    "        \n",
    "#     if crop_thr is None:\n",
    "#         y = hist_x_xy[0]\n",
    "#         x = hist_x_xy[1]\n",
    "#         x_axis = x\n",
    "#     else:\n",
    "#         if crop_sign == +1:\n",
    "#             hist_x_xy_crop = get_only_one_state_histxy( hist_x_xy, th=crop_thr, sign_ge=+1, state=crop_sign )\n",
    "#         elif crop_sign == -1:\n",
    "#             hist_x_xy_crop = get_only_one_state_histxy( hist_x_xy, th=crop_thr, sign_ge=+1, state=crop_sign )\n",
    "#         else:\n",
    "#             print 'warning in fit_gauss(). crop_sign must be equal to +-1'\n",
    "#             return None\n",
    "#         y = hist_x_xy_crop[0]\n",
    "#         x = hist_x_xy_crop[1]\n",
    "#         x_axis = hist_x_xy[1]\n",
    "        \n",
    "    \n",
    "#     ### make an expectatin\n",
    "#     expec_min_y    = 0\n",
    "#     expec_max_y    = np.max(y)\n",
    "#     expec_center_x = x[np.argmax(y)]\n",
    "#     expec_std_x    = hwhh_xy(x,y)\n",
    "#     gauss_p0 = [expec_min_y, expec_max_y, expec_center_x, expec_std_x]\n",
    "\n",
    "#     ### fit g state by single gaus\n",
    "#     import fit\n",
    "#     gauss = fit.Gaussian()\n",
    "#     gauss.set_data(x, y)\n",
    "#     gauss_p = gauss.fit(gauss_p0, fixed=[0])\n",
    "#     y_gausfit = gauss.func(gauss_p)\n",
    "    \n",
    "#     # remake the gaussian again with given parameters, but for all x-axis\n",
    "#     if crop_thr is not None:\n",
    "#         gauss1 = fit.Gaussian()\n",
    "#         gauss1.set_data(x_axis, y)\n",
    "#         y_gausfit = gauss1.func(gauss_p)\n",
    "        \n",
    "\n",
    "#     ### here we already know exact centers!\n",
    "#     center_mv = gauss_p[2]\n",
    "#     std_mv    = gauss_p[3]\n",
    "    \n",
    "#     sigma_mv  = std_mv/2\n",
    "    \n",
    "#     h_x_fit     = [ y_gausfit, x_axis ]\n",
    "#     p_list      = [ center_mv, sigma_mv ]\n",
    "#     return [h_x_fit, p_list] \n",
    "   \n",
    "\n",
    "# def hist_tuple_to_xy_func(h_tuple):\n",
    "#     '''\n",
    "#     plt.hist automaticly return a tuple (values_array, coordinate_array)\n",
    "#     and they have different lenghtes bacouse of this:   .-.-.-.   :(3 lines, 4 points)\n",
    "#     this function reshape the coordinate array to make possible to match values to cordinates\n",
    "#     ### Thin it out!\n",
    "#     '''\n",
    "#     if h_tuple is None:\n",
    "#         return None\n",
    "#     vals = h_tuple[0]\n",
    "#     cords = h_tuple[1]\n",
    "\n",
    "#     cords_1 = np.zeros_like(cords[:-1])\n",
    "#     for i in range(len(cords_1)):\n",
    "#         cords_1[i] = np.mean([  cords[i], cords[i+1] ])\n",
    "\n",
    "#     return [vals, cords_1]\n",
    "\n",
    "# def get_only_one_state(x, th=0, sign_ge=+1, state=+1):\n",
    "#     '''\n",
    "#     This function return only the points which is above (below) threshold\n",
    "#     th is threshold value\n",
    "#     sign_ge: {+1 if e>g, -1 otherwise}\n",
    "#     state is:\n",
    "#     for g-state state = -1\n",
    "#     for e-state state = +1\n",
    "#     '''\n",
    "#     if sign_ge * state > 0:\n",
    "#         ind = np.where(x < th)\n",
    "#     elif sign_ge * state < 0:\n",
    "#         ind = np.where(x > th)\n",
    "#     else:\n",
    "#         print 'error of input cut_one_state_from_x(). sign_ge and state can be +-1 only'\n",
    "#     return np.delete(x, ind)\n"
   ]
  },
  {
   "cell_type": "markdown",
   "metadata": {},
   "source": [
    "# ALL FIT STARTS HERE"
   ]
  },
  {
   "cell_type": "markdown",
   "metadata": {},
   "source": [
    "### new method with numpy.histogram"
   ]
  },
  {
   "cell_type": "code",
   "execution_count": null,
   "metadata": {},
   "outputs": [],
   "source": [
    "import numpy as np\n",
    "from matplotlib import pyplot as plt\n",
    "from lib_SSResult import SSResult## This data we will use\n",
    "\n",
    "filename2 = 'C:\\\\Users\\V\\\\Jupyter scripts\\\\Fidelity data processing\\\\193544_SingleShot.dat'\n",
    "paramfile2 = 'C:\\\\Users\\V\\\\Jupyter scripts\\\\Fidelity data processing\\\\193544_parameters_Fidelity190722_193544.dat'\n",
    "m2 = SSResult(filename2, paramfile=paramfile2)\n",
    "\n",
    "\n",
    "m2.make_norm_data_from_raw()"
   ]
  },
  {
   "cell_type": "markdown",
   "metadata": {},
   "source": [
    "# Firing in SSresult"
   ]
  },
  {
   "cell_type": "code",
   "execution_count": null,
   "metadata": {},
   "outputs": [],
   "source": [
    "plt = m2.make_histograms()"
   ]
  },
  {
   "cell_type": "markdown",
   "metadata": {},
   "source": [
    "# Fiting here"
   ]
  },
  {
   "cell_type": "code",
   "execution_count": null,
   "metadata": {},
   "outputs": [],
   "source": [
    "def fit_gauss(hist_x_xy, crop_thr=None, crop_sign = +1):\n",
    "    '''\n",
    "    Takes histogram-tuple [x, vals]\n",
    "    fits \n",
    "    returns histogram-tuple [x, vals_fit] and list of gauss-parameters\n",
    "    crop_thr: if it is None - than we fit all the data. If it is threshold_value than we do crop\n",
    "    if crop_sign is positive - than we take points more than threshold \n",
    "    if crop_sign is negative - than we take points less than threshold \n",
    "    \n",
    "    '''\n",
    "    \n",
    "    def get_only_one_state_histxy(histxy, th=0, sign_ge=+1, state=+1):\n",
    "        '''\n",
    "        This function return only the points which is above (below) threshold\n",
    "        th is threshold value\n",
    "        sign_ge: {+1 if e>g, -1 otherwise}\n",
    "        state is:\n",
    "        for g-state state = -1\n",
    "        for e-state state = +1\n",
    "        '''\n",
    "        x = histxy[1]\n",
    "        y = histxy[0]\n",
    "\n",
    "        if sign_ge * state > 0:\n",
    "            ind = np.where(x < th)\n",
    "        elif sign_ge * state < 0:\n",
    "            ind = np.where(x > th)\n",
    "        else:\n",
    "            print 'error of input cut_one_state_from_x(). sign_ge and state can be +-1 only'\n",
    "\n",
    "        x_crop = np.delete(x, ind)\n",
    "        y_crop = np.delete(y, ind)\n",
    "        hist_crop = [y_crop, x_crop]\n",
    "\n",
    "        return hist_crop\n",
    "    \n",
    "    def hwhh_xy(x,y):\n",
    "        '''\n",
    "        This function takes x and y sequence \n",
    "        returns half width at half height\n",
    "        Works for gaussian type of function (or lorenzian etc.)\n",
    "        '''\n",
    "        half_heigh = np.max(y)/2.0\n",
    "        center_x = x[np.argmax(y)]\n",
    "\n",
    "        list_x_in = []\n",
    "        for i in range(len(y)):\n",
    "            if y[i] > half_heigh:\n",
    "                list_x_in.append(x[i])\n",
    "\n",
    "        x_max_edge = np.max(list_x_in)\n",
    "        x_min_edge = np.min(list_x_in)\n",
    "\n",
    "        hwhh = (x_max_edge - x_min_edge)/2.0\n",
    "\n",
    "        return hwhh \n",
    "\n",
    "\n",
    "    #################################################\n",
    "    \n",
    "    ### to crop or not to crop\n",
    "    if crop_thr is None:\n",
    "        y = hist_x_xy[0]\n",
    "        x = hist_x_xy[1]\n",
    "        x_axis = x\n",
    "    else:\n",
    "        if crop_sign == +1:\n",
    "            hist_x_xy_crop = get_only_one_state_histxy( hist_x_xy, th=crop_thr, sign_ge=+1, state=crop_sign )\n",
    "        elif crop_sign == -1:\n",
    "            hist_x_xy_crop = get_only_one_state_histxy( hist_x_xy, th=crop_thr, sign_ge=+1, state=crop_sign )\n",
    "        else:\n",
    "            print 'warning in fit_gauss(). crop_sign must be equal to +-1'\n",
    "            return None\n",
    "        y = hist_x_xy_crop[0]\n",
    "        x = hist_x_xy_crop[1]\n",
    "        x_axis = hist_x_xy[1]\n",
    "        \n",
    "    \n",
    "    ### make an expectatin\n",
    "    expec_min_y    = 0\n",
    "    expec_max_y    = np.max(y)\n",
    "    expec_center_x = x[np.argmax(y)]\n",
    "    expec_std_x    = hwhh_xy(x,y)\n",
    "    gauss_p0 = [expec_min_y, expec_max_y, expec_center_x, expec_std_x]\n",
    "\n",
    "    ### fit g state by single gaus\n",
    "    import fit\n",
    "    gauss = fit.Gaussian()\n",
    "    gauss.set_data(x, y)\n",
    "    gauss_p = gauss.fit(gauss_p0, fixed=[0])\n",
    "    y_gausfit = gauss.func(gauss_p)\n",
    "    \n",
    "    # remake the gaussian again with given parameters, but for all x-axis\n",
    "    if crop_thr is not None:\n",
    "        gauss1 = fit.Gaussian()\n",
    "        gauss1.set_data(x_axis, y)\n",
    "        y_gausfit = gauss1.func(gauss_p)\n",
    "        \n",
    "\n",
    "    ### here we already know exact centers!\n",
    "    center_mv = gauss_p[2]\n",
    "    std_mv    = gauss_p[3]\n",
    "    \n",
    "    sigma_mv  = std_mv/2\n",
    "    \n",
    "    h_x_fit     = [ y_gausfit, x_axis ]\n",
    "    p_list      = [ center_mv, sigma_mv ]\n",
    "    return [h_x_fit, p_list] \n",
    "\n",
    "#################################################################\n",
    "\n",
    "def hist_tuple_to_xy_func(h_tuple):\n",
    "    '''\n",
    "    plt.hist automaticly return a tuple (values_array, coordinate_array)\n",
    "    and they have different lenghtes bacouse of this:   .-.-.-.   :(3 lines, 4 points)\n",
    "    this function reshape the coordinate array to make possible to match values to cordinates\n",
    "    ### Thin it out!\n",
    "    '''\n",
    "    if h_tuple is None:\n",
    "        return None\n",
    "    vals = h_tuple[0]\n",
    "    cords = h_tuple[1]\n",
    "\n",
    "    cords_1 = np.zeros_like(cords[:-1])\n",
    "    for i in range(len(cords_1)):\n",
    "        cords_1[i] = np.mean([  cords[i], cords[i+1] ])\n",
    "\n",
    "    return [vals, cords_1]\n",
    "\n",
    "hist_g = np.histogram(m2.x_g, bins=100)\n",
    "hist_g_xy = hist_tuple_to_xy_func(hist_g)\n",
    "hist_e = np.histogram(m2.x_e, bins=100)\n",
    "hist_e_xy = hist_tuple_to_xy_func(hist_e)\n",
    "\n",
    "[ hist_g_fit, gaus_par_g ] = fit_gauss(hist_g_xy, crop_thr=m2.threshold, crop_sign = -m2.sign_ge )\n",
    "[ hist_e_fit, gaus_par_e ] = fit_gauss(hist_e_xy, crop_thr=m2.threshold, crop_sign = +m2.sign_ge )\n",
    "\n",
    "\n",
    "plt.figure()\n",
    "plt.yscale('log')\n",
    "plt.ylim(1,700)\n",
    "plt.plot(hist_g_xy[1], hist_g_xy[0], drawstyle='steps', lw=1)\n",
    "plt.plot(hist_e_xy[1], hist_e_xy[0], drawstyle='steps', lw=1)\n",
    "\n",
    "plt.plot(hist_g_fit[1], hist_g_fit[0], lw=1, color='b')\n",
    "plt.plot(hist_e_fit[1], hist_e_fit[0], lw=1, color='r')\n"
   ]
  },
  {
   "cell_type": "code",
   "execution_count": null,
   "metadata": {},
   "outputs": [],
   "source": []
  },
  {
   "cell_type": "markdown",
   "metadata": {},
   "source": [
    "# Check hists as a new class"
   ]
  },
  {
   "cell_type": "code",
   "execution_count": 1,
   "metadata": {},
   "outputs": [
    {
     "name": "stdout",
     "output_type": "stream",
     "text": [
      "Object is created\n",
      "data was normalised and saved\n",
      "arg best: 20\n",
      "best fidelity:  0.9224\n",
      "ONE MORE ITTERATION\n",
      "arg best: 21\n",
      "best fidelity:  0.9228\n",
      "ONE MORE ITTERATION\n",
      "arg best: 33\n",
      "best fidelity:  0.92295\n",
      "ONE MORE ITTERATION\n",
      "threshold: 0.00281185202274\n"
     ]
    },
    {
     "data": {
      "text/plain": [
       "0.0028118520227441886"
      ]
     },
     "execution_count": 1,
     "metadata": {},
     "output_type": "execute_result"
    }
   ],
   "source": [
    "import numpy as np\n",
    "from matplotlib import pyplot as plt\n",
    "from lib_SSResult import SSResult## This data we will use\n",
    "from lib_SSResult import Histogram\n",
    "\n",
    "\n",
    "filename2 = 'C:\\\\Users\\V\\\\Jupyter scripts\\\\Fidelity data processing\\\\193544_SingleShot.dat'\n",
    "paramfile2 = 'C:\\\\Users\\V\\\\Jupyter scripts\\\\Fidelity data processing\\\\193544_parameters_Fidelity190722_193544.dat'\n",
    "m2 = SSResult(filename2, paramfile=paramfile2)\n",
    "# pic = m2.plot_scatter_two_blob(dark=True)\n",
    "\n",
    "m2.make_norm_data_from_raw()\n",
    "m2.set_best_threshold()\n"
   ]
  },
  {
   "cell_type": "code",
   "execution_count": 2,
   "metadata": {},
   "outputs": [
    {
     "name": "stderr",
     "output_type": "stream",
     "text": [
      "c:\\python27\\lib\\site-packages\\matplotlib\\figure.py:2299: UserWarning: This figure includes Axes that are not compatible with tight_layout, so results might be incorrect.\n",
      "  warnings.warn(\"This figure includes Axes that are not compatible \"\n"
     ]
    },
    {
     "data": {
      "image/png": "[encoded data removed]",
      "text/plain": [
       "<Figure size 432x288 with 1 Axes>"
      ]
     },
     "metadata": {},
     "output_type": "display_data"
    }
   ],
   "source": [
    "pic = m2.plot_hist_1D()"
   ]
  },
  {
   "cell_type": "code",
   "execution_count": 3,
   "metadata": {},
   "outputs": [
    {
     "data": {
      "image/png": "[encoded data removed]",
      "text/plain": [
       "<Figure size 432x288 with 1 Axes>"
      ]
     },
     "metadata": {
      "needs_background": "dark"
     },
     "output_type": "display_data"
    }
   ],
   "source": [
    "m2.make_histograms()\n",
    "pic = m2.plot_hists_new()"
   ]
  },
  {
   "cell_type": "code",
   "execution_count": 4,
   "metadata": {},
   "outputs": [
    {
     "data": {
      "text/plain": [
       "True"
      ]
     },
     "execution_count": 4,
     "metadata": {},
     "output_type": "execute_result"
    }
   ],
   "source": [
    "m2.make_histograms()"
   ]
  },
  {
   "cell_type": "code",
   "execution_count": 5,
   "metadata": {},
   "outputs": [
    {
     "ename": "AttributeError",
     "evalue": "Histogram instance has no attribute 'do_the_fit'",
     "output_type": "error",
     "traceback": [
      "\u001b[1;31m---------------------------------------------------------------------------\u001b[0m",
      "\u001b[1;31mAttributeError\u001b[0m                            Traceback (most recent call last)",
      "\u001b[1;32m<ipython-input-5-60f2d4ab74cd>\u001b[0m in \u001b[0;36m<module>\u001b[1;34m()\u001b[0m\n\u001b[1;32m----> 1\u001b[1;33m \u001b[0mm2\u001b[0m\u001b[1;33m.\u001b[0m\u001b[0mx_e_hist\u001b[0m\u001b[1;33m.\u001b[0m\u001b[0mdo_the_fit\u001b[0m\u001b[1;33m(\u001b[0m\u001b[0mm2\u001b[0m\u001b[1;33m.\u001b[0m\u001b[0mthreshold\u001b[0m\u001b[1;33m,\u001b[0m \u001b[0mm2\u001b[0m\u001b[1;33m.\u001b[0m\u001b[0msign_ge\u001b[0m\u001b[1;33m)\u001b[0m\u001b[1;33m\u001b[0m\u001b[0m\n\u001b[0m",
      "\u001b[1;31mAttributeError\u001b[0m: Histogram instance has no attribute 'do_the_fit'"
     ]
    }
   ],
   "source": [
    "m2.x_e_hist.do_the_fit(m2.threshold, m2.sign_ge)"
   ]
  },
  {
   "cell_type": "code",
   "execution_count": null,
   "metadata": {},
   "outputs": [],
   "source": []
  },
  {
   "cell_type": "code",
   "execution_count": null,
   "metadata": {},
   "outputs": [],
   "source": []
  },
  {
   "cell_type": "code",
   "execution_count": null,
   "metadata": {},
   "outputs": [],
   "source": []
  },
  {
   "cell_type": "code",
   "execution_count": null,
   "metadata": {},
   "outputs": [],
   "source": []
  },
  {
   "cell_type": "code",
   "execution_count": null,
   "metadata": {},
   "outputs": [],
   "source": []
  },
  {
   "cell_type": "code",
   "execution_count": null,
   "metadata": {},
   "outputs": [],
   "source": []
  },
  {
   "cell_type": "code",
   "execution_count": null,
   "metadata": {},
   "outputs": [],
   "source": []
  },
  {
   "cell_type": "code",
   "execution_count": null,
   "metadata": {},
   "outputs": [],
   "source": []
  },
  {
   "cell_type": "code",
   "execution_count": null,
   "metadata": {},
   "outputs": [],
   "source": []
  },
  {
   "cell_type": "code",
   "execution_count": null,
   "metadata": {},
   "outputs": [],
   "source": []
  },
  {
   "cell_type": "code",
   "execution_count": null,
   "metadata": {},
   "outputs": [],
   "source": []
  },
  {
   "cell_type": "code",
   "execution_count": null,
   "metadata": {},
   "outputs": [],
   "source": []
  },
  {
   "cell_type": "code",
   "execution_count": null,
   "metadata": {},
   "outputs": [],
   "source": []
  },
  {
   "cell_type": "code",
   "execution_count": null,
   "metadata": {},
   "outputs": [],
   "source": []
  },
  {
   "cell_type": "code",
   "execution_count": null,
   "metadata": {},
   "outputs": [],
   "source": []
  },
  {
   "cell_type": "code",
   "execution_count": null,
   "metadata": {},
   "outputs": [],
   "source": []
  },
  {
   "cell_type": "code",
   "execution_count": null,
   "metadata": {},
   "outputs": [],
   "source": []
  },
  {
   "cell_type": "code",
   "execution_count": null,
   "metadata": {},
   "outputs": [],
   "source": []
  },
  {
   "cell_type": "code",
   "execution_count": null,
   "metadata": {},
   "outputs": [],
   "source": []
  },
  {
   "cell_type": "code",
   "execution_count": null,
   "metadata": {},
   "outputs": [],
   "source": []
  },
  {
   "cell_type": "code",
   "execution_count": null,
   "metadata": {},
   "outputs": [],
   "source": []
  },
  {
   "cell_type": "code",
   "execution_count": null,
   "metadata": {},
   "outputs": [],
   "source": []
  },
  {
   "cell_type": "code",
   "execution_count": null,
   "metadata": {},
   "outputs": [],
   "source": []
  },
  {
   "cell_type": "code",
   "execution_count": null,
   "metadata": {},
   "outputs": [],
   "source": []
  },
  {
   "cell_type": "code",
   "execution_count": null,
   "metadata": {},
   "outputs": [],
   "source": []
  },
  {
   "cell_type": "code",
   "execution_count": null,
   "metadata": {},
   "outputs": [],
   "source": []
  },
  {
   "cell_type": "code",
   "execution_count": null,
   "metadata": {},
   "outputs": [],
   "source": []
  },
  {
   "cell_type": "code",
   "execution_count": null,
   "metadata": {},
   "outputs": [],
   "source": []
  },
  {
   "cell_type": "code",
   "execution_count": null,
   "metadata": {},
   "outputs": [],
   "source": []
  }
 ],
 "metadata": {
  "kernelspec": {
   "display_name": "Python 2",
   "language": "python",
   "name": "python2"
  },
  "language_info": {
   "codemirror_mode": {
    "name": "ipython",
    "version": 2
   },
   "file_extension": ".py",
   "mimetype": "text/x-python",
   "name": "python",
   "nbconvert_exporter": "python",
   "pygments_lexer": "ipython2",
   "version": "2.7.10"
  }
 },
 "nbformat": 4,
 "nbformat_minor": 2
}
