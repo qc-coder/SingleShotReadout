{
 "cells": [
  {
   "cell_type": "code",
   "execution_count": 1,
   "metadata": {},
   "outputs": [
    {
     "ename": "SyntaxError",
     "evalue": "invalid syntax (lib_SSResult.py, line 1453)",
     "output_type": "error",
     "traceback": [
      "\u001b[1;36m  File \u001b[1;32m\"lib_SSResult.py\"\u001b[1;36m, line \u001b[1;32m1453\u001b[0m\n\u001b[1;33m    if (self.center_re_g is None) or (self.center_re_e is None) or\u001b[0m\n\u001b[1;37m                                                                  ^\u001b[0m\n\u001b[1;31mSyntaxError\u001b[0m\u001b[1;31m:\u001b[0m invalid syntax\n"
     ]
    }
   ],
   "source": [
    "import numpy as np\n",
    "from matplotlib import pyplot as plt\n",
    "\n",
    "#my library with classes\n",
    "from lib_SSResult import SSResult\n",
    "\n",
    "import os"
   ]
  },
  {
   "cell_type": "code",
   "execution_count": null,
   "metadata": {},
   "outputs": [],
   "source": [
    "ssr1 = SSResult('193544_SingleShot.dat', paramfile='193544_parameters_Fidelity190722_193544.dat')"
   ]
  },
  {
   "cell_type": "code",
   "execution_count": null,
   "metadata": {},
   "outputs": [],
   "source": [
    "ssr1.dict_fidelity"
   ]
  },
  {
   "cell_type": "code",
   "execution_count": null,
   "metadata": {},
   "outputs": [],
   "source": [
    "fig= ssr1.plot_scatter_two_blob(dark=True)"
   ]
  },
  {
   "cell_type": "code",
   "execution_count": null,
   "metadata": {},
   "outputs": [],
   "source": [
    "fig"
   ]
  },
  {
   "cell_type": "code",
   "execution_count": null,
   "metadata": {},
   "outputs": [],
   "source": [
    "ssr1.plot_scatter_two_blob(dark=True)[0]"
   ]
  },
  {
   "cell_type": "code",
   "execution_count": 86,
   "metadata": {},
   "outputs": [],
   "source": [
    "def digits_before_point(val):\n",
    "        '''\n",
    "        Calculate number of digits lefter than point \n",
    "        [xxx].[zz] -> number of 'x'\n",
    "        '''\n",
    "        s = abs(int(val))\n",
    "        count = 0\n",
    "        while s != 0:\n",
    "            s = s/10\n",
    "            count = count +1\n",
    "        if count == 0:\n",
    "            count = 1\n",
    "        return count\n"
   ]
  },
  {
   "cell_type": "code",
   "execution_count": 240,
   "metadata": {},
   "outputs": [],
   "source": [
    "def my_stround(num, digits=3, withminus=True, toright=False):\n",
    "    '''\n",
    "    Takes float. Return string. With given number of digits.\n",
    "    '''\n",
    "    digits = abs(int(digits))\n",
    "    \n",
    "    ### work with first char\n",
    "    if withminus:\n",
    "        if num >= 0:\n",
    "            minus = ' '\n",
    "        else:\n",
    "            minus = '-'\n",
    "        num = abs(num)\n",
    "            \n",
    "    \n",
    "    ### separate two parts\n",
    "    left_part = int(num)\n",
    "    right_part = num - left_part\n",
    "     \n",
    "    ### make round for right part\n",
    "    right_part = round(right_part, digits -  len( str(left_part) )  )\n",
    "    ### check if right part is 0.0\n",
    "#     if right_part != 0.0:\n",
    "#         string = string + str(right_part)\n",
    "\n",
    "    new_num = left_part + right_part\n",
    "    if right_part == 0:\n",
    "        new_num = int(new_num)\n",
    "    if new_num ==0:\n",
    "        minus = ' '\n",
    "        new_num = int(0)\n",
    "        \n",
    "    string = minus + str( new_num )\n",
    "    \n",
    "    ### add some spaces if string is too short\n",
    "#     if len(string) < digits:\n",
    "#         spaces = digits - len(string)\n",
    "#         for i in range(spaces):\n",
    "#             if toright:\n",
    "#                 string = ' ' + string\n",
    "#             else:\n",
    "#                 string = string + ' '\n",
    "\n",
    "    return string\n",
    "    "
   ]
  },
  {
   "cell_type": "code",
   "execution_count": 188,
   "metadata": {},
   "outputs": [
    {
     "name": "stdout",
     "output_type": "stream",
     "text": [
      "0.0398\n",
      "15\n"
     ]
    }
   ],
   "source": [
    "num = 15.0398\n",
    "l = int(num)\n",
    "r = num - int(num)\n",
    "\n",
    "print r\n",
    "print l"
   ]
  },
  {
   "cell_type": "code",
   "execution_count": 186,
   "metadata": {},
   "outputs": [
    {
     "name": "stdout",
     "output_type": "stream",
     "text": [
      "0.04\n"
     ]
    }
   ],
   "source": [
    "k = round(r , 2)\n",
    "if k == 0:\n",
    "    print True\n",
    "else:\n",
    "    print k"
   ]
  },
  {
   "cell_type": "code",
   "execution_count": null,
   "metadata": {},
   "outputs": [],
   "source": []
  },
  {
   "cell_type": "code",
   "execution_count": 89,
   "metadata": {},
   "outputs": [],
   "source": [
    "def common(num):\n",
    "    string = ''\n",
    "    string = str(round(num, 3))\n",
    "    return string"
   ]
  },
  {
   "cell_type": "code",
   "execution_count": 227,
   "metadata": {},
   "outputs": [
    {
     "data": {
      "text/plain": [
       "1"
      ]
     },
     "execution_count": 227,
     "metadata": {},
     "output_type": "execute_result"
    }
   ],
   "source": [
    "len(str(int(0)))"
   ]
  },
  {
   "cell_type": "code",
   "execution_count": 247,
   "metadata": {},
   "outputs": [
    {
     "name": "stdout",
     "output_type": "stream",
     "text": [
      " 0ns\n",
      " 0ns\n",
      "-1235.0ns\n",
      " 1235.0ns\n",
      "-0.003ns\n",
      " 0.003ns\n",
      "-0.02ns\n",
      " 0.02ns\n",
      "-0.1ns\n",
      " 0.1ns\n",
      " 1.2ns\n",
      "-1.2ns\n",
      "-12.3ns\n",
      " 12.3ns\n",
      "-123.4ns\n",
      " 123.4ns\n",
      "\n",
      "\n",
      " 0.1ns\n",
      " 0.123ns\n",
      "-0.584ns\n",
      " 1000ns\n",
      "-1000ns\n",
      " 100ns\n",
      " 276374657934ns\n",
      " 0.276ns\n"
     ]
    }
   ],
   "source": [
    "dig = 4\n",
    "\n",
    "print my_stround(-0.0004 , digits=dig)+ 'ns'\n",
    "print my_stround( 0.0004 , digits=dig)+ 'ns'\n",
    "\n",
    "print my_stround(-1234.56 , digits=dig)+ 'ns'\n",
    "print my_stround( 1234.56 , digits=dig)+ 'ns'\n",
    "\n",
    "print my_stround(-0.003 , digits=dig)+ 'ns'\n",
    "print my_stround( 0.003 , digits=dig)+ 'ns'\n",
    "\n",
    "print my_stround(-0.02 , digits=dig)+ 'ns'\n",
    "print my_stround( 0.02 , digits=dig)+ 'ns'\n",
    "\n",
    "print my_stround(-0.1 , digits=dig)+ 'ns'\n",
    "print my_stround( 0.1 , digits=dig)+ 'ns'\n",
    "\n",
    "print my_stround( 1.2 , digits=dig)+ 'ns'\n",
    "print my_stround(-1.2 , digits=dig)+ 'ns'\n",
    "\n",
    "print my_stround(-12.3 , digits=dig)+ 'ns'\n",
    "print my_stround( 12.3 , digits=dig)+ 'ns'\n",
    "\n",
    "print my_stround(-123.4 , digits=dig)+ 'ns'\n",
    "print my_stround( 123.4 , digits=dig)+ 'ns'\n",
    "\n",
    "\n",
    "\n",
    "print '\\n'\n",
    "print my_stround(0.100023 , digits=dig) + 'ns'\n",
    "print my_stround(0.123456 , digits=dig)+ 'ns'\n",
    "print my_stround(-0.5841521 , digits=dig)+ 'ns'\n",
    "\n",
    "print my_stround(1000 , digits=dig)+ 'ns'\n",
    "print my_stround(-1000 , digits=dig) + 'ns'\n",
    "print my_stround(100 , digits=dig)+ 'ns'\n",
    "print my_stround(276374657934 , digits=dig)+ 'ns'\n",
    "print my_stround(0.276374657934 , digits=dig)+ 'ns'"
   ]
  },
  {
   "cell_type": "code",
   "execution_count": 239,
   "metadata": {},
   "outputs": [
    {
     "data": {
      "text/plain": [
       "' 0 '"
      ]
     },
     "execution_count": 239,
     "metadata": {},
     "output_type": "execute_result"
    }
   ],
   "source": [
    "s = my_stround(-0.003 , digits=dig)\n",
    "len(s)\n",
    "s"
   ]
  },
  {
   "cell_type": "code",
   "execution_count": 91,
   "metadata": {},
   "outputs": [
    {
     "name": "stdout",
     "output_type": "stream",
     "text": [
      "-100.0\n",
      "100.0\n"
     ]
    }
   ],
   "source": [
    "print common(-100)\n",
    "print common(100)"
   ]
  },
  {
   "cell_type": "code",
   "execution_count": 80,
   "metadata": {},
   "outputs": [],
   "source": [
    "val = -50.1234\n"
   ]
  },
  {
   "cell_type": "code",
   "execution_count": 151,
   "metadata": {},
   "outputs": [
    {
     "data": {
      "text/plain": [
       "123456789.0"
      ]
     },
     "execution_count": 151,
     "metadata": {},
     "output_type": "execute_result"
    }
   ],
   "source": [
    "round(123456789, 15)"
   ]
  },
  {
   "cell_type": "code",
   "execution_count": 85,
   "metadata": {},
   "outputs": [
    {
     "data": {
      "text/plain": [
       "2"
      ]
     },
     "execution_count": 85,
     "metadata": {},
     "output_type": "execute_result"
    }
   ],
   "source": [
    "digits_before_point(val)"
   ]
  },
  {
   "cell_type": "code",
   "execution_count": 32,
   "metadata": {},
   "outputs": [
    {
     "data": {
      "text/plain": [
       "1"
      ]
     },
     "execution_count": 32,
     "metadata": {},
     "output_type": "execute_result"
    }
   ],
   "source": [
    "12/10"
   ]
  },
  {
   "cell_type": "code",
   "execution_count": 33,
   "metadata": {},
   "outputs": [
    {
     "data": {
      "text/plain": [
       "0"
      ]
     },
     "execution_count": 33,
     "metadata": {},
     "output_type": "execute_result"
    }
   ],
   "source": [
    "1/10"
   ]
  },
  {
   "cell_type": "code",
   "execution_count": null,
   "metadata": {},
   "outputs": [],
   "source": []
  },
  {
   "cell_type": "code",
   "execution_count": 197,
   "metadata": {},
   "outputs": [
    {
     "data": {
      "text/plain": [
       "Text(0.5,0,'xyz')"
      ]
     },
     "execution_count": 197,
     "metadata": {},
     "output_type": "execute_result"
    },
    {
     "data": {
      "image/png": "[encoded data removed]",
      "text/plain": [
       "<Figure size 432x288 with 1 Axes>"
      ]
     },
     "metadata": {
      "needs_background": "light"
     },
     "output_type": "display_data"
    }
   ],
   "source": [
    "fig = plt.figure()\n",
    "ax = fig.add_subplot(1, 1, 1)\n",
    "ax.set_xlabel('xyz')"
   ]
  },
  {
   "cell_type": "code",
   "execution_count": null,
   "metadata": {},
   "outputs": [],
   "source": []
  },
  {
   "cell_type": "code",
   "execution_count": null,
   "metadata": {},
   "outputs": [],
   "source": []
  },
  {
   "cell_type": "code",
   "execution_count": null,
   "metadata": {},
   "outputs": [],
   "source": []
  },
  {
   "cell_type": "code",
   "execution_count": null,
   "metadata": {},
   "outputs": [],
   "source": []
  }
 ],
 "metadata": {
  "kernelspec": {
   "display_name": "Python 2",
   "language": "python",
   "name": "python2"
  },
  "language_info": {
   "codemirror_mode": {
    "name": "ipython",
    "version": 2
   },
   "file_extension": ".py",
   "mimetype": "text/x-python",
   "name": "python",
   "nbconvert_exporter": "python",
   "pygments_lexer": "ipython2",
   "version": "2.7.10"
  }
 },
 "nbformat": 4,
 "nbformat_minor": 2
}
